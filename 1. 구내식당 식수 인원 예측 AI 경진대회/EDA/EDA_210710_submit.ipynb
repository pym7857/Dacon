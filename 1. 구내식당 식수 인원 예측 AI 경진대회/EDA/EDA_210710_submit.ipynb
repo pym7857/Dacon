{
 "metadata": {
  "language_info": {
   "codemirror_mode": {
    "name": "ipython",
    "version": 3
   },
   "file_extension": ".py",
   "mimetype": "text/x-python",
   "name": "python",
   "nbconvert_exporter": "python",
   "pygments_lexer": "ipython3",
   "version": "3.8.5"
  },
  "orig_nbformat": 4,
  "kernelspec": {
   "name": "python3",
   "display_name": "Python 3",
   "language": "python"
  },
  "interpreter": {
   "hash": "3ecb1cc026588d0ae07b79cdd27ef950e9a5a79a9b72c9d1f43a374a3e07223f"
  }
 },
 "nbformat": 4,
 "nbformat_minor": 2,
 "cells": [
  {
   "cell_type": "code",
   "execution_count": 9,
   "metadata": {},
   "outputs": [],
   "source": [
    "import numpy as np\n",
    "import pandas as pd\n",
    "import matplotlib.pyplot as plt\n",
    "import seaborn as sns\n",
    "\n",
    "import warnings\n",
    "warnings.filterwarnings('ignore')"
   ]
  },
  {
   "source": [
    "## 1. 데이터 불러오기 "
   ],
   "cell_type": "markdown",
   "metadata": {}
  },
  {
   "cell_type": "code",
   "execution_count": 10,
   "metadata": {},
   "outputs": [
    {
     "output_type": "stream",
     "name": "stdout",
     "text": [
      "(50, 10)\n"
     ]
    },
    {
     "output_type": "execute_result",
     "data": {
      "text/plain": [
       "           일자 요일  본사정원수  본사휴가자수  본사출장자수  본사시간외근무명령서승인건수  현본사소속재택근무자수  \\\n",
       "0  2021-01-27  수   2983      88     182               5        358.0   \n",
       "1  2021-01-28  목   2983     104     212             409        348.0   \n",
       "2  2021-01-29  금   2983     270     249               0        294.0   \n",
       "3  2021-02-01  월   2924     108     154             538        322.0   \n",
       "4  2021-02-02  화   2924      62     186             455        314.0   \n",
       "\n",
       "                                                조식메뉴  \\\n",
       "0  모닝롤/연유버터베이글 우유/주스 계란후라이/찐계란 단호박죽/흑미밥 우거지국 고기완자...   \n",
       "1  모닝롤/대만샌드위치 우유/주스 계란후라이/찐계란 누룽지탕/흑미밥 황태국 시래기지짐 ...   \n",
       "2  모닝롤/핫케익 우유/주스 계란후라이/찐계란 오곡죽/흑미밥 매생이굴국 고구마순볶음 양...   \n",
       "3  모닝롤/촉촉한치즈케익 우유/주스 계란후라이/찐계란 누룽지탕/흑미밥 두부김칫국 새우완...   \n",
       "4  모닝롤/토마토샌드 우유/주스 계란후라이/찐계란 채소죽/흑미밥 호박맑은국 오이생채 양...   \n",
       "\n",
       "                                                중식메뉴  \\\n",
       "0  쌀밥/흑미밥/찰현미밥 대구지리 매운돈갈비찜 오꼬노미계란말이 상추무침 포기김치 양상추...   \n",
       "1  쌀밥/보리밥/찰현미밥 우렁된장찌개 오리주물럭 청양부추전 수제삼색무쌈 겉절이김치 양상...   \n",
       "2  쌀밥/흑미밥/찰현미밥 팽이장국 수제돈까스*소스 가자미조림 동초나물무침 포기김치 양상...   \n",
       "3  쌀밥/흑미밥/찰현미밥 배추들깨국 오리대패불고기 시금치프리타타 부추고추장무침 포기김치...   \n",
       "4  쌀밥/팥밥/찰현미밥 부대찌개 닭살데리야끼조림 버섯탕수 세발나물무침 알타리김치/사과푸...   \n",
       "\n",
       "                                            석식메뉴  \n",
       "0  흑미밥 얼큰순두부찌개 쇠고기우엉볶음 버섯햄볶음 (New)아삭이고추무절임 포기김치   \n",
       "1            충무김밥 우동국물 오징어무침 꽃맛살샐러드 얼갈이쌈장무침 석박지   \n",
       "2            흑미밥 물만둣국 카레찜닭 숯불양념꼬지어묵 꼬시래기무침 포기김치   \n",
       "3           흑미밥 동태탕 돈육꽈리고추장조림 당면채소무침 모자반무침 포기김치   \n",
       "4       흑미밥 바지락살국 쇠고기청경채볶음 두부구이*볶은김치 머위된장무침 백김치   "
      ],
      "text/html": "<div>\n<style scoped>\n    .dataframe tbody tr th:only-of-type {\n        vertical-align: middle;\n    }\n\n    .dataframe tbody tr th {\n        vertical-align: top;\n    }\n\n    .dataframe thead th {\n        text-align: right;\n    }\n</style>\n<table border=\"1\" class=\"dataframe\">\n  <thead>\n    <tr style=\"text-align: right;\">\n      <th></th>\n      <th>일자</th>\n      <th>요일</th>\n      <th>본사정원수</th>\n      <th>본사휴가자수</th>\n      <th>본사출장자수</th>\n      <th>본사시간외근무명령서승인건수</th>\n      <th>현본사소속재택근무자수</th>\n      <th>조식메뉴</th>\n      <th>중식메뉴</th>\n      <th>석식메뉴</th>\n    </tr>\n  </thead>\n  <tbody>\n    <tr>\n      <th>0</th>\n      <td>2021-01-27</td>\n      <td>수</td>\n      <td>2983</td>\n      <td>88</td>\n      <td>182</td>\n      <td>5</td>\n      <td>358.0</td>\n      <td>모닝롤/연유버터베이글 우유/주스 계란후라이/찐계란 단호박죽/흑미밥 우거지국 고기완자...</td>\n      <td>쌀밥/흑미밥/찰현미밥 대구지리 매운돈갈비찜 오꼬노미계란말이 상추무침 포기김치 양상추...</td>\n      <td>흑미밥 얼큰순두부찌개 쇠고기우엉볶음 버섯햄볶음 (New)아삭이고추무절임 포기김치</td>\n    </tr>\n    <tr>\n      <th>1</th>\n      <td>2021-01-28</td>\n      <td>목</td>\n      <td>2983</td>\n      <td>104</td>\n      <td>212</td>\n      <td>409</td>\n      <td>348.0</td>\n      <td>모닝롤/대만샌드위치 우유/주스 계란후라이/찐계란 누룽지탕/흑미밥 황태국 시래기지짐 ...</td>\n      <td>쌀밥/보리밥/찰현미밥 우렁된장찌개 오리주물럭 청양부추전 수제삼색무쌈 겉절이김치 양상...</td>\n      <td>충무김밥 우동국물 오징어무침 꽃맛살샐러드 얼갈이쌈장무침 석박지</td>\n    </tr>\n    <tr>\n      <th>2</th>\n      <td>2021-01-29</td>\n      <td>금</td>\n      <td>2983</td>\n      <td>270</td>\n      <td>249</td>\n      <td>0</td>\n      <td>294.0</td>\n      <td>모닝롤/핫케익 우유/주스 계란후라이/찐계란 오곡죽/흑미밥 매생이굴국 고구마순볶음 양...</td>\n      <td>쌀밥/흑미밥/찰현미밥 팽이장국 수제돈까스*소스 가자미조림 동초나물무침 포기김치 양상...</td>\n      <td>흑미밥 물만둣국 카레찜닭 숯불양념꼬지어묵 꼬시래기무침 포기김치</td>\n    </tr>\n    <tr>\n      <th>3</th>\n      <td>2021-02-01</td>\n      <td>월</td>\n      <td>2924</td>\n      <td>108</td>\n      <td>154</td>\n      <td>538</td>\n      <td>322.0</td>\n      <td>모닝롤/촉촉한치즈케익 우유/주스 계란후라이/찐계란 누룽지탕/흑미밥 두부김칫국 새우완...</td>\n      <td>쌀밥/흑미밥/찰현미밥 배추들깨국 오리대패불고기 시금치프리타타 부추고추장무침 포기김치...</td>\n      <td>흑미밥 동태탕 돈육꽈리고추장조림 당면채소무침 모자반무침 포기김치</td>\n    </tr>\n    <tr>\n      <th>4</th>\n      <td>2021-02-02</td>\n      <td>화</td>\n      <td>2924</td>\n      <td>62</td>\n      <td>186</td>\n      <td>455</td>\n      <td>314.0</td>\n      <td>모닝롤/토마토샌드 우유/주스 계란후라이/찐계란 채소죽/흑미밥 호박맑은국 오이생채 양...</td>\n      <td>쌀밥/팥밥/찰현미밥 부대찌개 닭살데리야끼조림 버섯탕수 세발나물무침 알타리김치/사과푸...</td>\n      <td>흑미밥 바지락살국 쇠고기청경채볶음 두부구이*볶은김치 머위된장무침 백김치</td>\n    </tr>\n  </tbody>\n</table>\n</div>"
     },
     "metadata": {},
     "execution_count": 10
    }
   ],
   "source": [
    "df = pd.read_csv(\"./test.csv\")\n",
    "print(df.shape)\n",
    "df.head()"
   ]
  },
  {
   "cell_type": "code",
   "execution_count": 11,
   "metadata": {},
   "outputs": [
    {
     "output_type": "execute_result",
     "data": {
      "text/plain": [
       "             본사정원수      본사휴가자수      본사출장자수  본사시간외근무명령서승인건수  현본사소속재택근무자수\n",
       "count    50.000000   50.000000   50.000000       50.000000    50.000000\n",
       "mean   2956.840000  129.520000  209.220000      380.140000   298.140000\n",
       "std      24.968846   84.065873   39.454593      346.564304    52.058056\n",
       "min    2924.000000   50.000000  131.000000        0.000000   179.000000\n",
       "25%    2924.000000   78.250000  176.500000        1.000000   257.250000\n",
       "50%    2974.000000   95.000000  202.500000      465.500000   300.000000\n",
       "75%    2975.000000  137.500000  245.250000      681.000000   333.250000\n",
       "max    2983.000000  489.000000  279.000000     1003.000000   413.000000"
      ],
      "text/html": "<div>\n<style scoped>\n    .dataframe tbody tr th:only-of-type {\n        vertical-align: middle;\n    }\n\n    .dataframe tbody tr th {\n        vertical-align: top;\n    }\n\n    .dataframe thead th {\n        text-align: right;\n    }\n</style>\n<table border=\"1\" class=\"dataframe\">\n  <thead>\n    <tr style=\"text-align: right;\">\n      <th></th>\n      <th>본사정원수</th>\n      <th>본사휴가자수</th>\n      <th>본사출장자수</th>\n      <th>본사시간외근무명령서승인건수</th>\n      <th>현본사소속재택근무자수</th>\n    </tr>\n  </thead>\n  <tbody>\n    <tr>\n      <th>count</th>\n      <td>50.000000</td>\n      <td>50.000000</td>\n      <td>50.000000</td>\n      <td>50.000000</td>\n      <td>50.000000</td>\n    </tr>\n    <tr>\n      <th>mean</th>\n      <td>2956.840000</td>\n      <td>129.520000</td>\n      <td>209.220000</td>\n      <td>380.140000</td>\n      <td>298.140000</td>\n    </tr>\n    <tr>\n      <th>std</th>\n      <td>24.968846</td>\n      <td>84.065873</td>\n      <td>39.454593</td>\n      <td>346.564304</td>\n      <td>52.058056</td>\n    </tr>\n    <tr>\n      <th>min</th>\n      <td>2924.000000</td>\n      <td>50.000000</td>\n      <td>131.000000</td>\n      <td>0.000000</td>\n      <td>179.000000</td>\n    </tr>\n    <tr>\n      <th>25%</th>\n      <td>2924.000000</td>\n      <td>78.250000</td>\n      <td>176.500000</td>\n      <td>1.000000</td>\n      <td>257.250000</td>\n    </tr>\n    <tr>\n      <th>50%</th>\n      <td>2974.000000</td>\n      <td>95.000000</td>\n      <td>202.500000</td>\n      <td>465.500000</td>\n      <td>300.000000</td>\n    </tr>\n    <tr>\n      <th>75%</th>\n      <td>2975.000000</td>\n      <td>137.500000</td>\n      <td>245.250000</td>\n      <td>681.000000</td>\n      <td>333.250000</td>\n    </tr>\n    <tr>\n      <th>max</th>\n      <td>2983.000000</td>\n      <td>489.000000</td>\n      <td>279.000000</td>\n      <td>1003.000000</td>\n      <td>413.000000</td>\n    </tr>\n  </tbody>\n</table>\n</div>"
     },
     "metadata": {},
     "execution_count": 11
    }
   ],
   "source": [
    "df.describe()"
   ]
  },
  {
   "cell_type": "code",
   "execution_count": 12,
   "metadata": {},
   "outputs": [
    {
     "output_type": "execute_result",
     "data": {
      "text/plain": [
       "일자                0\n",
       "요일                0\n",
       "본사정원수             0\n",
       "본사휴가자수            0\n",
       "본사출장자수            0\n",
       "본사시간외근무명령서승인건수    0\n",
       "현본사소속재택근무자수       0\n",
       "조식메뉴              0\n",
       "중식메뉴              0\n",
       "석식메뉴              0\n",
       "dtype: int64"
      ]
     },
     "metadata": {},
     "execution_count": 12
    }
   ],
   "source": [
    "df.isnull().sum() # 결측치 확인 "
   ]
  },
  {
   "source": [
    "## 2. 시간 정보 정리 "
   ],
   "cell_type": "markdown",
   "metadata": {}
  },
  {
   "cell_type": "code",
   "execution_count": 13,
   "metadata": {},
   "outputs": [
    {
     "output_type": "execute_result",
     "data": {
      "text/plain": [
       "           일자   datetime        date  year  quarter  weeks  month  weekday  \\\n",
       "0  2021-01-27 2021-01-27  2021-01-27  2021        1      4      1        2   \n",
       "1  2021-01-28 2021-01-28  2021-01-28  2021        1      4      1        3   \n",
       "2  2021-01-29 2021-01-29  2021-01-29  2021        1      4      1        4   \n",
       "3  2021-02-01 2021-02-01  2021-02-01  2021        1      5      2        0   \n",
       "4  2021-02-02 2021-02-02  2021-02-02  2021        1      5      2        1   \n",
       "\n",
       "   day  \n",
       "0   27  \n",
       "1   28  \n",
       "2   29  \n",
       "3    1  \n",
       "4    2  "
      ],
      "text/html": "<div>\n<style scoped>\n    .dataframe tbody tr th:only-of-type {\n        vertical-align: middle;\n    }\n\n    .dataframe tbody tr th {\n        vertical-align: top;\n    }\n\n    .dataframe thead th {\n        text-align: right;\n    }\n</style>\n<table border=\"1\" class=\"dataframe\">\n  <thead>\n    <tr style=\"text-align: right;\">\n      <th></th>\n      <th>일자</th>\n      <th>datetime</th>\n      <th>date</th>\n      <th>year</th>\n      <th>quarter</th>\n      <th>weeks</th>\n      <th>month</th>\n      <th>weekday</th>\n      <th>day</th>\n    </tr>\n  </thead>\n  <tbody>\n    <tr>\n      <th>0</th>\n      <td>2021-01-27</td>\n      <td>2021-01-27</td>\n      <td>2021-01-27</td>\n      <td>2021</td>\n      <td>1</td>\n      <td>4</td>\n      <td>1</td>\n      <td>2</td>\n      <td>27</td>\n    </tr>\n    <tr>\n      <th>1</th>\n      <td>2021-01-28</td>\n      <td>2021-01-28</td>\n      <td>2021-01-28</td>\n      <td>2021</td>\n      <td>1</td>\n      <td>4</td>\n      <td>1</td>\n      <td>3</td>\n      <td>28</td>\n    </tr>\n    <tr>\n      <th>2</th>\n      <td>2021-01-29</td>\n      <td>2021-01-29</td>\n      <td>2021-01-29</td>\n      <td>2021</td>\n      <td>1</td>\n      <td>4</td>\n      <td>1</td>\n      <td>4</td>\n      <td>29</td>\n    </tr>\n    <tr>\n      <th>3</th>\n      <td>2021-02-01</td>\n      <td>2021-02-01</td>\n      <td>2021-02-01</td>\n      <td>2021</td>\n      <td>1</td>\n      <td>5</td>\n      <td>2</td>\n      <td>0</td>\n      <td>1</td>\n    </tr>\n    <tr>\n      <th>4</th>\n      <td>2021-02-02</td>\n      <td>2021-02-02</td>\n      <td>2021-02-02</td>\n      <td>2021</td>\n      <td>1</td>\n      <td>5</td>\n      <td>2</td>\n      <td>1</td>\n      <td>2</td>\n    </tr>\n  </tbody>\n</table>\n</div>"
     },
     "metadata": {},
     "execution_count": 13
    }
   ],
   "source": [
    "import datetime\n",
    "\n",
    "df_tmp = pd.DataFrame(df['일자'].copy())\n",
    "df_tmp['datetime'] = [datetime.datetime.strptime(timestamp, \"%Y-%m-%d\") for timestamp in df_tmp['일자']]\n",
    "df_tmp[\"date\"] = df_tmp[\"datetime\"].dt.date\n",
    "df_tmp[\"year\"] = df_tmp[\"datetime\"].dt.year\n",
    "df_tmp['quarter'] = df_tmp['datetime'].dt.quarter\n",
    "df_tmp['weeks'] = df_tmp['datetime'].dt.week\n",
    "df_tmp[\"month\"] = df_tmp[\"datetime\"].dt.month\n",
    "df_tmp[\"weekday\"] = df_tmp[\"datetime\"].dt.weekday\n",
    "df_tmp[\"day\"] = df_tmp[\"datetime\"].dt.day\n",
    "\n",
    "df_tmp.head()"
   ]
  },
  {
   "cell_type": "code",
   "execution_count": 14,
   "metadata": {},
   "outputs": [
    {
     "output_type": "execute_result",
     "data": {
      "text/plain": [
       "    datetime        date  year  quarter  weeks  month  weekday  day 요일  본사정원수  \\\n",
       "0 2021-01-27  2021-01-27  2021        1      4      1        2   27  수   2983   \n",
       "1 2021-01-28  2021-01-28  2021        1      4      1        3   28  목   2983   \n",
       "\n",
       "   본사휴가자수  본사출장자수  본사시간외근무명령서승인건수  현본사소속재택근무자수  \\\n",
       "0      88     182               5        358.0   \n",
       "1     104     212             409        348.0   \n",
       "\n",
       "                                                조식메뉴  \\\n",
       "0  모닝롤/연유버터베이글 우유/주스 계란후라이/찐계란 단호박죽/흑미밥 우거지국 고기완자...   \n",
       "1  모닝롤/대만샌드위치 우유/주스 계란후라이/찐계란 누룽지탕/흑미밥 황태국 시래기지짐 ...   \n",
       "\n",
       "                                                중식메뉴  \\\n",
       "0  쌀밥/흑미밥/찰현미밥 대구지리 매운돈갈비찜 오꼬노미계란말이 상추무침 포기김치 양상추...   \n",
       "1  쌀밥/보리밥/찰현미밥 우렁된장찌개 오리주물럭 청양부추전 수제삼색무쌈 겉절이김치 양상...   \n",
       "\n",
       "                                            석식메뉴  \n",
       "0  흑미밥 얼큰순두부찌개 쇠고기우엉볶음 버섯햄볶음 (New)아삭이고추무절임 포기김치   \n",
       "1            충무김밥 우동국물 오징어무침 꽃맛살샐러드 얼갈이쌈장무침 석박지   "
      ],
      "text/html": "<div>\n<style scoped>\n    .dataframe tbody tr th:only-of-type {\n        vertical-align: middle;\n    }\n\n    .dataframe tbody tr th {\n        vertical-align: top;\n    }\n\n    .dataframe thead th {\n        text-align: right;\n    }\n</style>\n<table border=\"1\" class=\"dataframe\">\n  <thead>\n    <tr style=\"text-align: right;\">\n      <th></th>\n      <th>datetime</th>\n      <th>date</th>\n      <th>year</th>\n      <th>quarter</th>\n      <th>weeks</th>\n      <th>month</th>\n      <th>weekday</th>\n      <th>day</th>\n      <th>요일</th>\n      <th>본사정원수</th>\n      <th>본사휴가자수</th>\n      <th>본사출장자수</th>\n      <th>본사시간외근무명령서승인건수</th>\n      <th>현본사소속재택근무자수</th>\n      <th>조식메뉴</th>\n      <th>중식메뉴</th>\n      <th>석식메뉴</th>\n    </tr>\n  </thead>\n  <tbody>\n    <tr>\n      <th>0</th>\n      <td>2021-01-27</td>\n      <td>2021-01-27</td>\n      <td>2021</td>\n      <td>1</td>\n      <td>4</td>\n      <td>1</td>\n      <td>2</td>\n      <td>27</td>\n      <td>수</td>\n      <td>2983</td>\n      <td>88</td>\n      <td>182</td>\n      <td>5</td>\n      <td>358.0</td>\n      <td>모닝롤/연유버터베이글 우유/주스 계란후라이/찐계란 단호박죽/흑미밥 우거지국 고기완자...</td>\n      <td>쌀밥/흑미밥/찰현미밥 대구지리 매운돈갈비찜 오꼬노미계란말이 상추무침 포기김치 양상추...</td>\n      <td>흑미밥 얼큰순두부찌개 쇠고기우엉볶음 버섯햄볶음 (New)아삭이고추무절임 포기김치</td>\n    </tr>\n    <tr>\n      <th>1</th>\n      <td>2021-01-28</td>\n      <td>2021-01-28</td>\n      <td>2021</td>\n      <td>1</td>\n      <td>4</td>\n      <td>1</td>\n      <td>3</td>\n      <td>28</td>\n      <td>목</td>\n      <td>2983</td>\n      <td>104</td>\n      <td>212</td>\n      <td>409</td>\n      <td>348.0</td>\n      <td>모닝롤/대만샌드위치 우유/주스 계란후라이/찐계란 누룽지탕/흑미밥 황태국 시래기지짐 ...</td>\n      <td>쌀밥/보리밥/찰현미밥 우렁된장찌개 오리주물럭 청양부추전 수제삼색무쌈 겉절이김치 양상...</td>\n      <td>충무김밥 우동국물 오징어무침 꽃맛살샐러드 얼갈이쌈장무침 석박지</td>\n    </tr>\n  </tbody>\n</table>\n</div>"
     },
     "metadata": {},
     "execution_count": 14
    }
   ],
   "source": [
    "# 원본 df와 병합 \n",
    "df_target = pd.merge(df_tmp, df, left_on=\"일자\", right_on=\"일자\", how='left')\n",
    "df_target.drop(['일자'], axis=1, inplace=True)\n",
    "df_target = df_target.reset_index(drop=True)\n",
    "\n",
    "df_target.head(2)"
   ]
  },
  {
   "cell_type": "code",
   "execution_count": 15,
   "metadata": {},
   "outputs": [
    {
     "output_type": "execute_result",
     "data": {
      "text/plain": [
       "    datetime        date  year  quarter  weeks  month  weekday  day 요일  본사정원수  \\\n",
       "0 2021-01-27  2021-01-27  2021        1      4      1        2   27  수   2983   \n",
       "1 2021-01-28  2021-01-28  2021        1      4      1        3   28  목   2983   \n",
       "2 2021-01-29  2021-01-29  2021        1      4      1        4   29  금   2983   \n",
       "3 2021-02-01  2021-02-01  2021        1      5      2        0    1  월   2924   \n",
       "4 2021-02-02  2021-02-02  2021        1      5      2        1    2  화   2924   \n",
       "\n",
       "   본사휴가자수  본사출장자수  본사시간외근무명령서승인건수  현본사소속재택근무자수  \\\n",
       "0      88     182               5        358.0   \n",
       "1     104     212             409        348.0   \n",
       "2     270     249               0        294.0   \n",
       "3     108     154             538        322.0   \n",
       "4      62     186             455        314.0   \n",
       "\n",
       "                                                조식메뉴  \\\n",
       "0  모닝롤/연유버터베이글 우유/주스 계란후라이/찐계란 단호박죽/흑미밥 우거지국 고기완자...   \n",
       "1  모닝롤/대만샌드위치 우유/주스 계란후라이/찐계란 누룽지탕/흑미밥 황태국 시래기지짐 ...   \n",
       "2  모닝롤/핫케익 우유/주스 계란후라이/찐계란 오곡죽/흑미밥 매생이굴국 고구마순볶음 양...   \n",
       "3  모닝롤/촉촉한치즈케익 우유/주스 계란후라이/찐계란 누룽지탕/흑미밥 두부김칫국 새우완...   \n",
       "4  모닝롤/토마토샌드 우유/주스 계란후라이/찐계란 채소죽/흑미밥 호박맑은국 오이생채 양...   \n",
       "\n",
       "                                                중식메뉴  \\\n",
       "0  쌀밥/흑미밥/찰현미밥 대구지리 매운돈갈비찜 오꼬노미계란말이 상추무침 포기김치 양상추...   \n",
       "1  쌀밥/보리밥/찰현미밥 우렁된장찌개 오리주물럭 청양부추전 수제삼색무쌈 겉절이김치 양상...   \n",
       "2  쌀밥/흑미밥/찰현미밥 팽이장국 수제돈까스*소스 가자미조림 동초나물무침 포기김치 양상...   \n",
       "3  쌀밥/흑미밥/찰현미밥 배추들깨국 오리대패불고기 시금치프리타타 부추고추장무침 포기김치...   \n",
       "4  쌀밥/팥밥/찰현미밥 부대찌개 닭살데리야끼조림 버섯탕수 세발나물무침 알타리김치/사과푸...   \n",
       "\n",
       "                                            석식메뉴  \n",
       "0  흑미밥 얼큰순두부찌개 쇠고기우엉볶음 버섯햄볶음 (New)아삭이고추무절임 포기김치   \n",
       "1            충무김밥 우동국물 오징어무침 꽃맛살샐러드 얼갈이쌈장무침 석박지   \n",
       "2            흑미밥 물만둣국 카레찜닭 숯불양념꼬지어묵 꼬시래기무침 포기김치   \n",
       "3           흑미밥 동태탕 돈육꽈리고추장조림 당면채소무침 모자반무침 포기김치   \n",
       "4       흑미밥 바지락살국 쇠고기청경채볶음 두부구이*볶은김치 머위된장무침 백김치   "
      ],
      "text/html": "<div>\n<style scoped>\n    .dataframe tbody tr th:only-of-type {\n        vertical-align: middle;\n    }\n\n    .dataframe tbody tr th {\n        vertical-align: top;\n    }\n\n    .dataframe thead th {\n        text-align: right;\n    }\n</style>\n<table border=\"1\" class=\"dataframe\">\n  <thead>\n    <tr style=\"text-align: right;\">\n      <th></th>\n      <th>datetime</th>\n      <th>date</th>\n      <th>year</th>\n      <th>quarter</th>\n      <th>weeks</th>\n      <th>month</th>\n      <th>weekday</th>\n      <th>day</th>\n      <th>요일</th>\n      <th>본사정원수</th>\n      <th>본사휴가자수</th>\n      <th>본사출장자수</th>\n      <th>본사시간외근무명령서승인건수</th>\n      <th>현본사소속재택근무자수</th>\n      <th>조식메뉴</th>\n      <th>중식메뉴</th>\n      <th>석식메뉴</th>\n    </tr>\n  </thead>\n  <tbody>\n    <tr>\n      <th>0</th>\n      <td>2021-01-27</td>\n      <td>2021-01-27</td>\n      <td>2021</td>\n      <td>1</td>\n      <td>4</td>\n      <td>1</td>\n      <td>2</td>\n      <td>27</td>\n      <td>수</td>\n      <td>2983</td>\n      <td>88</td>\n      <td>182</td>\n      <td>5</td>\n      <td>358.0</td>\n      <td>모닝롤/연유버터베이글 우유/주스 계란후라이/찐계란 단호박죽/흑미밥 우거지국 고기완자...</td>\n      <td>쌀밥/흑미밥/찰현미밥 대구지리 매운돈갈비찜 오꼬노미계란말이 상추무침 포기김치 양상추...</td>\n      <td>흑미밥 얼큰순두부찌개 쇠고기우엉볶음 버섯햄볶음 (New)아삭이고추무절임 포기김치</td>\n    </tr>\n    <tr>\n      <th>1</th>\n      <td>2021-01-28</td>\n      <td>2021-01-28</td>\n      <td>2021</td>\n      <td>1</td>\n      <td>4</td>\n      <td>1</td>\n      <td>3</td>\n      <td>28</td>\n      <td>목</td>\n      <td>2983</td>\n      <td>104</td>\n      <td>212</td>\n      <td>409</td>\n      <td>348.0</td>\n      <td>모닝롤/대만샌드위치 우유/주스 계란후라이/찐계란 누룽지탕/흑미밥 황태국 시래기지짐 ...</td>\n      <td>쌀밥/보리밥/찰현미밥 우렁된장찌개 오리주물럭 청양부추전 수제삼색무쌈 겉절이김치 양상...</td>\n      <td>충무김밥 우동국물 오징어무침 꽃맛살샐러드 얼갈이쌈장무침 석박지</td>\n    </tr>\n    <tr>\n      <th>2</th>\n      <td>2021-01-29</td>\n      <td>2021-01-29</td>\n      <td>2021</td>\n      <td>1</td>\n      <td>4</td>\n      <td>1</td>\n      <td>4</td>\n      <td>29</td>\n      <td>금</td>\n      <td>2983</td>\n      <td>270</td>\n      <td>249</td>\n      <td>0</td>\n      <td>294.0</td>\n      <td>모닝롤/핫케익 우유/주스 계란후라이/찐계란 오곡죽/흑미밥 매생이굴국 고구마순볶음 양...</td>\n      <td>쌀밥/흑미밥/찰현미밥 팽이장국 수제돈까스*소스 가자미조림 동초나물무침 포기김치 양상...</td>\n      <td>흑미밥 물만둣국 카레찜닭 숯불양념꼬지어묵 꼬시래기무침 포기김치</td>\n    </tr>\n    <tr>\n      <th>3</th>\n      <td>2021-02-01</td>\n      <td>2021-02-01</td>\n      <td>2021</td>\n      <td>1</td>\n      <td>5</td>\n      <td>2</td>\n      <td>0</td>\n      <td>1</td>\n      <td>월</td>\n      <td>2924</td>\n      <td>108</td>\n      <td>154</td>\n      <td>538</td>\n      <td>322.0</td>\n      <td>모닝롤/촉촉한치즈케익 우유/주스 계란후라이/찐계란 누룽지탕/흑미밥 두부김칫국 새우완...</td>\n      <td>쌀밥/흑미밥/찰현미밥 배추들깨국 오리대패불고기 시금치프리타타 부추고추장무침 포기김치...</td>\n      <td>흑미밥 동태탕 돈육꽈리고추장조림 당면채소무침 모자반무침 포기김치</td>\n    </tr>\n    <tr>\n      <th>4</th>\n      <td>2021-02-02</td>\n      <td>2021-02-02</td>\n      <td>2021</td>\n      <td>1</td>\n      <td>5</td>\n      <td>2</td>\n      <td>1</td>\n      <td>2</td>\n      <td>화</td>\n      <td>2924</td>\n      <td>62</td>\n      <td>186</td>\n      <td>455</td>\n      <td>314.0</td>\n      <td>모닝롤/토마토샌드 우유/주스 계란후라이/찐계란 채소죽/흑미밥 호박맑은국 오이생채 양...</td>\n      <td>쌀밥/팥밥/찰현미밥 부대찌개 닭살데리야끼조림 버섯탕수 세발나물무침 알타리김치/사과푸...</td>\n      <td>흑미밥 바지락살국 쇠고기청경채볶음 두부구이*볶은김치 머위된장무침 백김치</td>\n    </tr>\n  </tbody>\n</table>\n</div>"
     },
     "metadata": {},
     "execution_count": 15
    }
   ],
   "source": [
    "df_target.head()"
   ]
  },
  {
   "cell_type": "code",
   "execution_count": 16,
   "metadata": {},
   "outputs": [],
   "source": [
    "A = 0.1\n",
    "B = 0.9\n",
    "\n",
    "df_target['석식_식수_최대예상인원'] = (( df_target['본사정원수'] - df_target['본사휴가자수'] - df_target['본사출장자수'] - df_target['현본사소속재택근무자수'] - df_target['본사시간외근무명령서승인건수'] )*A + df_target['본사시간외근무명령서승인건수']*B).round()"
   ]
  },
  {
   "source": [],
   "cell_type": "markdown",
   "metadata": {}
  },
  {
   "cell_type": "code",
   "execution_count": null,
   "metadata": {},
   "outputs": [],
   "source": []
  },
  {
   "cell_type": "code",
   "execution_count": null,
   "metadata": {},
   "outputs": [],
   "source": []
  },
  {
   "cell_type": "code",
   "execution_count": 1221,
   "metadata": {},
   "outputs": [
    {
     "output_type": "execute_result",
     "data": {
      "text/plain": [
       "Index(['datetime', 'date', 'year', 'quarter', 'weeks', 'month', 'weekday',\n",
       "       'day', '요일', '본사정원수', '본사휴가자수', '본사출장자수', '본사시간외근무명령서승인건수',\n",
       "       '현본사소속재택근무자수', '조식메뉴', '중식메뉴', '석식메뉴', '중식계', '석식계', 'diff_중_석식계',\n",
       "       '석식_확실히_존재인원', '석식_식수_최대예상인원', '중식_확실히_존재인원', '중식_Group', '중식_Group_No',\n",
       "       '석식_Group', '석식_Group_No', '중식_new', '석식_new'],\n",
       "      dtype='object')"
      ]
     },
     "metadata": {},
     "execution_count": 1221
    }
   ],
   "source": [
    "df_target.columns"
   ]
  },
  {
   "source": [
    "<H2> `fbprophet`을 이용해 시계열 데이터 예측하기"
   ],
   "cell_type": "markdown",
   "metadata": {}
  },
  {
   "cell_type": "code",
   "execution_count": null,
   "metadata": {},
   "outputs": [],
   "source": []
  },
  {
   "cell_type": "code",
   "execution_count": null,
   "metadata": {},
   "outputs": [],
   "source": []
  },
  {
   "source": [
    "<H2> `RandomForest` 모델 사용 <br>\n",
    "- 중식계, 석식계 모델 따로 만들어야 됨 "
   ],
   "cell_type": "markdown",
   "metadata": {}
  },
  {
   "source": [
    "<H2> 중식계 모델 "
   ],
   "cell_type": "markdown",
   "metadata": {}
  },
  {
   "cell_type": "code",
   "execution_count": 1228,
   "metadata": {},
   "outputs": [],
   "source": [
    "df_target['중식_식수_최대예상인원'] = df_target['본사정원수'] - df_target['본사휴가자수'] - df_target['본사출장자수'] - df_target['현본사소속재택근무자수']"
   ]
  },
  {
   "cell_type": "code",
   "execution_count": 1230,
   "metadata": {},
   "outputs": [
    {
     "output_type": "execute_result",
     "data": {
      "text/plain": [
       "year             -0.078804\n",
       "quarter          -0.156732\n",
       "weeks            -0.135008\n",
       "month            -0.154664\n",
       "weekday          -0.734273\n",
       "day              -0.097392\n",
       "본사정원수            -0.115529\n",
       "본사휴가자수           -0.391975\n",
       "본사출장자수           -0.512680\n",
       "본사시간외근무명령서승인건수    0.535611\n",
       "현본사소속재택근무자수       0.076509\n",
       "중식계               1.000000\n",
       "석식계               0.508287\n",
       "diff_중_석식계        0.756778\n",
       "석식_확실히_존재인원       0.286810\n",
       "석식_식수_최대예상인원      0.544383\n",
       "중식_확실히_존재인원       0.286810\n",
       "중식_Group_No       0.282306\n",
       "석식_Group_No       0.266502\n",
       "전주_중식계            0.713299\n",
       "전주_석식계            0.406593\n",
       "중식_식수_최대예상인원      0.286810\n",
       "dtype: float64"
      ]
     },
     "metadata": {},
     "execution_count": 1230
    }
   ],
   "source": [
    "df_target.corrwith(df_target['중식계'])"
   ]
  },
  {
   "cell_type": "code",
   "execution_count": 1231,
   "metadata": {},
   "outputs": [
    {
     "output_type": "execute_result",
     "data": {
      "text/plain": [
       "1205"
      ]
     },
     "metadata": {},
     "execution_count": 1231
    }
   ],
   "source": [
    "all_num = len(df_target)\n",
    "all_num"
   ]
  },
  {
   "source": [
    "<H3> 요일별 식수인원 추가"
   ],
   "cell_type": "markdown",
   "metadata": {}
  },
  {
   "cell_type": "code",
   "execution_count": 1232,
   "metadata": {},
   "outputs": [],
   "source": [
    "#df_tmp['datetime'] = [datetime.datetime.strptime(timestamp, \"%Y-%m-%d\") for timestamp in df_tmp['일자']]\n",
    "df_target['요일별_식수_평균'] = [day_mean[t] for t in df_target['요일']]"
   ]
  },
  {
   "cell_type": "code",
   "execution_count": 1234,
   "metadata": {},
   "outputs": [
    {
     "output_type": "stream",
     "name": "stdout",
     "text": [
      "<class 'numpy.ndarray'>\n"
     ]
    }
   ],
   "source": [
    "from sklearn.ensemble import RandomForestClassifier \n",
    "from sklearn.model_selection import train_test_split, cross_val_score\n",
    "\n",
    "# [X 변수] \n",
    "# 1.전주 식수인원 (=월,화.. 마다) (O)\n",
    "# 2.요일별 식수인원 (O)\n",
    "# 3.계절 (필요 X)\n",
    "# 4.하루마다의 날씨 (필요 X) \n",
    "# 5.실 근무자수 (O)\n",
    "# 6.메뉴 변수안의 new여부 (필요 X)\n",
    "\n",
    "X = df_target.loc[:, ['중식_식수_최대예상인원', '요일별_식수_평균']]\n",
    "y = df_target['중식계']\n",
    "y = np.array(y)\n",
    "print(type(y))\n",
    "\n",
    "#X_train, X_test, y_train, y_test = train_test_split(X, y)\n",
    "X_train, X_test, y_train, y_test = train_test_split(X, y, random_state=99)\n",
    "\n",
    "#train_num = int(all_num*0.7)\n",
    "\n",
    "#X_train = X[:train_num]\n",
    "#y_train = y[:train_num]\n",
    "\n",
    "#X_test = X[train_num:]\n",
    "#y_test = y[train_num:]\n",
    "\n",
    "#print(len(X_train), len(X_test))"
   ]
  },
  {
   "cell_type": "code",
   "execution_count": 1235,
   "metadata": {},
   "outputs": [
    {
     "output_type": "stream",
     "name": "stdout",
     "text": [
      "0.6870122633721366\n"
     ]
    }
   ],
   "source": [
    "from sklearn.linear_model import LinearRegression\n",
    "reg = LinearRegression().fit(X_train, y_train)\n",
    "print(reg.score(X_test, y_test))"
   ]
  },
  {
   "cell_type": "code",
   "execution_count": 1236,
   "metadata": {},
   "outputs": [
    {
     "output_type": "stream",
     "name": "stdout",
     "text": [
      "0.009933774834437087\n"
     ]
    }
   ],
   "source": [
    "# rfc = RandomForestClassifier(n_estimators=100, random_state=99)\n",
    "rfc = RandomForestClassifier()\n",
    "rfc.fit(X_train, y_train)\n",
    "print(rfc.score(X_test, y_test))"
   ]
  },
  {
   "source": [
    "<H2> 모델 predict (test.csv)"
   ],
   "cell_type": "markdown",
   "metadata": {}
  },
  {
   "cell_type": "code",
   "execution_count": 1245,
   "metadata": {},
   "outputs": [
    {
     "output_type": "stream",
     "name": "stdout",
     "text": [
      "(50, 10)\n"
     ]
    },
    {
     "output_type": "execute_result",
     "data": {
      "text/plain": [
       "           일자 요일  본사정원수  본사휴가자수  본사출장자수  본사시간외근무명령서승인건수  현본사소속재택근무자수  \\\n",
       "0  2021-01-27  수   2983      88     182               5        358.0   \n",
       "1  2021-01-28  목   2983     104     212             409        348.0   \n",
       "2  2021-01-29  금   2983     270     249               0        294.0   \n",
       "3  2021-02-01  월   2924     108     154             538        322.0   \n",
       "4  2021-02-02  화   2924      62     186             455        314.0   \n",
       "\n",
       "                                                조식메뉴  \\\n",
       "0  모닝롤/연유버터베이글 우유/주스 계란후라이/찐계란 단호박죽/흑미밥 우거지국 고기완자...   \n",
       "1  모닝롤/대만샌드위치 우유/주스 계란후라이/찐계란 누룽지탕/흑미밥 황태국 시래기지짐 ...   \n",
       "2  모닝롤/핫케익 우유/주스 계란후라이/찐계란 오곡죽/흑미밥 매생이굴국 고구마순볶음 양...   \n",
       "3  모닝롤/촉촉한치즈케익 우유/주스 계란후라이/찐계란 누룽지탕/흑미밥 두부김칫국 새우완...   \n",
       "4  모닝롤/토마토샌드 우유/주스 계란후라이/찐계란 채소죽/흑미밥 호박맑은국 오이생채 양...   \n",
       "\n",
       "                                                중식메뉴  \\\n",
       "0  쌀밥/흑미밥/찰현미밥 대구지리 매운돈갈비찜 오꼬노미계란말이 상추무침 포기김치 양상추...   \n",
       "1  쌀밥/보리밥/찰현미밥 우렁된장찌개 오리주물럭 청양부추전 수제삼색무쌈 겉절이김치 양상...   \n",
       "2  쌀밥/흑미밥/찰현미밥 팽이장국 수제돈까스*소스 가자미조림 동초나물무침 포기김치 양상...   \n",
       "3  쌀밥/흑미밥/찰현미밥 배추들깨국 오리대패불고기 시금치프리타타 부추고추장무침 포기김치...   \n",
       "4  쌀밥/팥밥/찰현미밥 부대찌개 닭살데리야끼조림 버섯탕수 세발나물무침 알타리김치/사과푸...   \n",
       "\n",
       "                                            석식메뉴  \n",
       "0  흑미밥 얼큰순두부찌개 쇠고기우엉볶음 버섯햄볶음 (New)아삭이고추무절임 포기김치   \n",
       "1            충무김밥 우동국물 오징어무침 꽃맛살샐러드 얼갈이쌈장무침 석박지   \n",
       "2            흑미밥 물만둣국 카레찜닭 숯불양념꼬지어묵 꼬시래기무침 포기김치   \n",
       "3           흑미밥 동태탕 돈육꽈리고추장조림 당면채소무침 모자반무침 포기김치   \n",
       "4       흑미밥 바지락살국 쇠고기청경채볶음 두부구이*볶은김치 머위된장무침 백김치   "
      ],
      "text/html": "<div>\n<style scoped>\n    .dataframe tbody tr th:only-of-type {\n        vertical-align: middle;\n    }\n\n    .dataframe tbody tr th {\n        vertical-align: top;\n    }\n\n    .dataframe thead th {\n        text-align: right;\n    }\n</style>\n<table border=\"1\" class=\"dataframe\">\n  <thead>\n    <tr style=\"text-align: right;\">\n      <th></th>\n      <th>일자</th>\n      <th>요일</th>\n      <th>본사정원수</th>\n      <th>본사휴가자수</th>\n      <th>본사출장자수</th>\n      <th>본사시간외근무명령서승인건수</th>\n      <th>현본사소속재택근무자수</th>\n      <th>조식메뉴</th>\n      <th>중식메뉴</th>\n      <th>석식메뉴</th>\n    </tr>\n  </thead>\n  <tbody>\n    <tr>\n      <th>0</th>\n      <td>2021-01-27</td>\n      <td>수</td>\n      <td>2983</td>\n      <td>88</td>\n      <td>182</td>\n      <td>5</td>\n      <td>358.0</td>\n      <td>모닝롤/연유버터베이글 우유/주스 계란후라이/찐계란 단호박죽/흑미밥 우거지국 고기완자...</td>\n      <td>쌀밥/흑미밥/찰현미밥 대구지리 매운돈갈비찜 오꼬노미계란말이 상추무침 포기김치 양상추...</td>\n      <td>흑미밥 얼큰순두부찌개 쇠고기우엉볶음 버섯햄볶음 (New)아삭이고추무절임 포기김치</td>\n    </tr>\n    <tr>\n      <th>1</th>\n      <td>2021-01-28</td>\n      <td>목</td>\n      <td>2983</td>\n      <td>104</td>\n      <td>212</td>\n      <td>409</td>\n      <td>348.0</td>\n      <td>모닝롤/대만샌드위치 우유/주스 계란후라이/찐계란 누룽지탕/흑미밥 황태국 시래기지짐 ...</td>\n      <td>쌀밥/보리밥/찰현미밥 우렁된장찌개 오리주물럭 청양부추전 수제삼색무쌈 겉절이김치 양상...</td>\n      <td>충무김밥 우동국물 오징어무침 꽃맛살샐러드 얼갈이쌈장무침 석박지</td>\n    </tr>\n    <tr>\n      <th>2</th>\n      <td>2021-01-29</td>\n      <td>금</td>\n      <td>2983</td>\n      <td>270</td>\n      <td>249</td>\n      <td>0</td>\n      <td>294.0</td>\n      <td>모닝롤/핫케익 우유/주스 계란후라이/찐계란 오곡죽/흑미밥 매생이굴국 고구마순볶음 양...</td>\n      <td>쌀밥/흑미밥/찰현미밥 팽이장국 수제돈까스*소스 가자미조림 동초나물무침 포기김치 양상...</td>\n      <td>흑미밥 물만둣국 카레찜닭 숯불양념꼬지어묵 꼬시래기무침 포기김치</td>\n    </tr>\n    <tr>\n      <th>3</th>\n      <td>2021-02-01</td>\n      <td>월</td>\n      <td>2924</td>\n      <td>108</td>\n      <td>154</td>\n      <td>538</td>\n      <td>322.0</td>\n      <td>모닝롤/촉촉한치즈케익 우유/주스 계란후라이/찐계란 누룽지탕/흑미밥 두부김칫국 새우완...</td>\n      <td>쌀밥/흑미밥/찰현미밥 배추들깨국 오리대패불고기 시금치프리타타 부추고추장무침 포기김치...</td>\n      <td>흑미밥 동태탕 돈육꽈리고추장조림 당면채소무침 모자반무침 포기김치</td>\n    </tr>\n    <tr>\n      <th>4</th>\n      <td>2021-02-02</td>\n      <td>화</td>\n      <td>2924</td>\n      <td>62</td>\n      <td>186</td>\n      <td>455</td>\n      <td>314.0</td>\n      <td>모닝롤/토마토샌드 우유/주스 계란후라이/찐계란 채소죽/흑미밥 호박맑은국 오이생채 양...</td>\n      <td>쌀밥/팥밥/찰현미밥 부대찌개 닭살데리야끼조림 버섯탕수 세발나물무침 알타리김치/사과푸...</td>\n      <td>흑미밥 바지락살국 쇠고기청경채볶음 두부구이*볶은김치 머위된장무침 백김치</td>\n    </tr>\n  </tbody>\n</table>\n</div>"
     },
     "metadata": {},
     "execution_count": 1245
    }
   ],
   "source": [
    "df_test = pd.read_csv(\"./test.csv\")\n",
    "print(df_test.shape)\n",
    "df_test.head()"
   ]
  },
  {
   "cell_type": "code",
   "execution_count": null,
   "metadata": {},
   "outputs": [],
   "source": [
    "X_test = df_test.loc[:, ['중식_식수_최대예상인원', '전주_중식계', '요일별_식수_평균']]"
   ]
  },
  {
   "cell_type": "code",
   "execution_count": 1238,
   "metadata": {},
   "outputs": [],
   "source": [
    "# from sklearn.datasets import load_iris\n",
    "# from sklearn.model_selection import train_test_split\n",
    "# from sklearn.ensemble import RandomForestClassifier\n",
    "# import pandas as pd\n",
    "\n",
    "\n",
    "# data = load_iris()\n",
    "\n",
    "# X = pd.DataFrame(data.data)\n",
    "# y = data.target\n",
    "\n",
    "# X_train, X_test, y_train, y_test = train_test_split(X, y, random_state=69)\n",
    "\n",
    "# model = RandomForestClassifier()\n",
    "# model.fit(X_train, y_train)\n",
    "# y_pred = model.predict(X_test)\n",
    "# score = model.score(X_test, y_test)\n",
    "\n",
    "# print(score)"
   ]
  },
  {
   "cell_type": "code",
   "execution_count": 1239,
   "metadata": {},
   "outputs": [
    {
     "output_type": "execute_result",
     "data": {
      "text/plain": [
       "      중식_식수_최대예상인원  전주_중식계   요일별_식수_평균\n",
       "1009        2626.0   804.0  823.991803\n",
       "558         2350.0   883.0  823.991803\n",
       "908         2679.0   708.0  823.991803\n",
       "62          2241.0  1028.0  905.213389\n",
       "218         2378.0   770.0  925.620833"
      ],
      "text/html": "<div>\n<style scoped>\n    .dataframe tbody tr th:only-of-type {\n        vertical-align: middle;\n    }\n\n    .dataframe tbody tr th {\n        vertical-align: top;\n    }\n\n    .dataframe thead th {\n        text-align: right;\n    }\n</style>\n<table border=\"1\" class=\"dataframe\">\n  <thead>\n    <tr style=\"text-align: right;\">\n      <th></th>\n      <th>중식_식수_최대예상인원</th>\n      <th>전주_중식계</th>\n      <th>요일별_식수_평균</th>\n    </tr>\n  </thead>\n  <tbody>\n    <tr>\n      <th>1009</th>\n      <td>2626.0</td>\n      <td>804.0</td>\n      <td>823.991803</td>\n    </tr>\n    <tr>\n      <th>558</th>\n      <td>2350.0</td>\n      <td>883.0</td>\n      <td>823.991803</td>\n    </tr>\n    <tr>\n      <th>908</th>\n      <td>2679.0</td>\n      <td>708.0</td>\n      <td>823.991803</td>\n    </tr>\n    <tr>\n      <th>62</th>\n      <td>2241.0</td>\n      <td>1028.0</td>\n      <td>905.213389</td>\n    </tr>\n    <tr>\n      <th>218</th>\n      <td>2378.0</td>\n      <td>770.0</td>\n      <td>925.620833</td>\n    </tr>\n  </tbody>\n</table>\n</div>"
     },
     "metadata": {},
     "execution_count": 1239
    }
   ],
   "source": [
    "X_train.head()"
   ]
  },
  {
   "cell_type": "code",
   "execution_count": 1240,
   "metadata": {},
   "outputs": [
    {
     "output_type": "execute_result",
     "data": {
      "text/plain": [
       "pandas.core.frame.DataFrame"
      ]
     },
     "metadata": {},
     "execution_count": 1240
    }
   ],
   "source": [
    "type(X_train)"
   ]
  },
  {
   "cell_type": "code",
   "execution_count": 1241,
   "metadata": {},
   "outputs": [
    {
     "output_type": "execute_result",
     "data": {
      "text/plain": [
       "numpy.ndarray"
      ]
     },
     "metadata": {},
     "execution_count": 1241
    }
   ],
   "source": [
    "type(y_train)"
   ]
  },
  {
   "source": [
    "<H2> 석식계 모델 "
   ],
   "cell_type": "markdown",
   "metadata": {}
  },
  {
   "cell_type": "code",
   "execution_count": 1242,
   "metadata": {},
   "outputs": [
    {
     "output_type": "stream",
     "name": "stdout",
     "text": [
      "<class 'numpy.ndarray'>\n"
     ]
    }
   ],
   "source": [
    "from sklearn.ensemble import RandomForestClassifier \n",
    "from sklearn.model_selection import train_test_split, cross_val_score\n",
    "\n",
    "# [X 변수] \n",
    "# 1.전주 식수인원 (=월,화.. 마다) (O)\n",
    "# 2.요일별 식수인원 (O)\n",
    "# 3.계절 (필요 X)\n",
    "# 4.하루마다의 날씨 (필요 X) \n",
    "# 5.실 근무자수 (O)\n",
    "# 6.메뉴 변수안의 new여부 (필요 X)\n",
    "\n",
    "X = df_target.loc[:, ['석식_식수_최대예상인원', '전주_석식계', '요일별_식수_평균']]\n",
    "y = df_target['석식계']\n",
    "y = np.array(y)\n",
    "print(type(y))\n",
    "\n",
    "#X_train, X_test, y_train, y_test = train_test_split(X, y)\n",
    "X_train, X_test, y_train, y_test = train_test_split(X, y, random_state=99)\n",
    "\n",
    "#train_num = int(all_num*0.7)\n",
    "\n",
    "#X_train = X[:train_num]\n",
    "#y_train = y[:train_num]\n",
    "\n",
    "#X_test = X[train_num:]\n",
    "#y_test = y[train_num:]\n",
    "\n",
    "#print(len(X_train), len(X_test))"
   ]
  },
  {
   "cell_type": "code",
   "execution_count": 1243,
   "metadata": {},
   "outputs": [
    {
     "output_type": "stream",
     "name": "stdout",
     "text": [
      "0.39477123670761116\n"
     ]
    }
   ],
   "source": [
    "from sklearn.linear_model import LinearRegression\n",
    "reg = LinearRegression().fit(X_train, y_train)\n",
    "print(reg.score(X_test, y_test))"
   ]
  },
  {
   "cell_type": "code",
   "execution_count": 1244,
   "metadata": {},
   "outputs": [
    {
     "output_type": "stream",
     "name": "stdout",
     "text": [
      "0.019867549668874173\n"
     ]
    }
   ],
   "source": [
    "# rfc = RandomForestClassifier(n_estimators=100, random_state=99)\n",
    "rfc = RandomForestClassifier()\n",
    "rfc.fit(X_train, y_train)\n",
    "print(rfc.score(X_test, y_test))"
   ]
  },
  {
   "cell_type": "code",
   "execution_count": null,
   "metadata": {},
   "outputs": [],
   "source": []
  }
 ]
}